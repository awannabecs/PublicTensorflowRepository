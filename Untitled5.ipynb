{
  "nbformat": 4,
  "nbformat_minor": 0,
  "metadata": {
    "colab": {
      "name": "Untitled5.ipynb",
      "provenance": [],
      "authorship_tag": "ABX9TyN2O5iQawy4jlMLRVEDP0yB",
      "include_colab_link": true
    },
    "kernelspec": {
      "name": "python3",
      "display_name": "Python 3"
    },
    "language_info": {
      "name": "python"
    }
  },
  "cells": [
    {
      "cell_type": "markdown",
      "metadata": {
        "id": "view-in-github",
        "colab_type": "text"
      },
      "source": [
        "<a href=\"https://colab.research.google.com/github/awannabecs/PublicTensorflowRepository/blob/main/Untitled5.ipynb\" target=\"_parent\"><img src=\"https://colab.research.google.com/assets/colab-badge.svg\" alt=\"Open In Colab\"/></a>"
      ]
    },
    {
      "cell_type": "code",
      "execution_count": 78,
      "metadata": {
        "id": "w2SovEt5IZfJ"
      },
      "outputs": [],
      "source": [
        "import tensorflow as tf\n",
        "import matplotlib.pyplot as plt\n",
        "import numpy as np\n",
        "import pandas as pd\n",
        "from sklearn.model_selection import train_test_split as ttp"
      ]
    },
    {
      "cell_type": "code",
      "source": [
        "insurance =  pd.read_csv(\"https://raw.githubusercontent.com/stedy/Machine-Learning-with-R-datasets/master/insurance.csv\")\n",
        "insurance_data = pd.get_dummies(insurance)"
      ],
      "metadata": {
        "id": "zpwA1LPBJEla"
      },
      "execution_count": 6,
      "outputs": []
    },
    {
      "cell_type": "code",
      "source": [
        "# (len(insurance_data) // 100) * 80\n",
        "\n",
        "# X_train2 = insurance_data.drop(\"charges\",axis=1)[:1040]\n",
        "# X_test2 = insurance_data.drop(\"charges\",axis=1)[1040:]\n",
        "\n",
        "\n",
        "\n",
        "# y_train2 = insurance_data[\"charges\"][:1040]\n",
        "# y_test2 = insurance_data[\"charges\"][1040:]"
      ],
      "metadata": {
        "id": "pMDZT3gDJr2h"
      },
      "execution_count": 89,
      "outputs": []
    },
    {
      "cell_type": "code",
      "source": [
        "X = insurance_data.drop(\"charges\",axis=1)\n",
        "y = insurance_data[\"charges\"]\n",
        "\n",
        "X_train, X_test, y_train, y_test = ttp(X, y , test_size=0.2, random_state=42)"
      ],
      "metadata": {
        "id": "qovT7beAO8l5"
      },
      "execution_count": 90,
      "outputs": []
    },
    {
      "cell_type": "code",
      "source": [
        "tf.random.set_seed(42)\n",
        "\n",
        "model = tf.keras.Sequential([\n",
        "tf.keras.layers.Dense(100),\n",
        "tf.keras.layers.Dense(10),                          \n",
        "])\n",
        "\n",
        "model.compile(loss=tf.keras.losses.mae,\n",
        "              optimizer=tf.keras.optimizers.Adam(learning_rate=0.01),\n",
        "              metrics=[\"mae\"])\n",
        "history = model.fit(X_train,y_train,epochs=300,verbose=0)"
      ],
      "metadata": {
        "id": "EGe6M_XWU5si"
      },
      "execution_count": 128,
      "outputs": []
    },
    {
      "cell_type": "code",
      "source": [
        "# model.evaluate(X_test,y_test)\n",
        "pd.DataFrame(history.history).plot()\n",
        "plt.ylabel=[\"loss\"]\n",
        "plt.xlabel=[\"epochs\"]"
      ],
      "metadata": {
        "colab": {
          "base_uri": "https://localhost:8080/",
          "height": 265
        },
        "id": "7XV9xfY1Wbhg",
        "outputId": "4ed803dd-8fac-4be6-cf3a-ac7dc740b851"
      },
      "execution_count": 129,
      "outputs": [
        {
          "output_type": "display_data",
          "data": {
            "image/png": "[encoded data removed]",
            "text/plain": [
              "<Figure size 432x288 with 1 Axes>"
            ]
          },
          "metadata": {
            "needs_background": "light"
          }
        }
      ]
    }
  ]
}