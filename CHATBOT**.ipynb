{
  "cells": [
    {
      "cell_type": "markdown",
      "metadata": {
        "id": "view-in-github",
        "colab_type": "text"
      },
      "source": [
        "<a href=\"https://colab.research.google.com/github/awannabecs/PublicTensorflowRepository/blob/main/CHATBOT**.ipynb\" target=\"_parent\"><img src=\"https://colab.research.google.com/assets/colab-badge.svg\" alt=\"Open In Colab\"/></a>"
      ]
    },
    {
      "cell_type": "code",
      "source": [
        "### import the will-be-needed modules ####\n",
        "import re\n",
        "import numpy as np\n",
        "import pandas as pd\n",
        "import matplotlib.pyplot as plt\n",
        "import random"
      ],
      "metadata": {
        "id": "WaCfxSoyIRSm"
      },
      "execution_count": 5,
      "outputs": []
    },
    {
      "cell_type": "code",
      "source": [
        "### load the data ####\n",
        "data_path =  \"/content/drive/MyDrive/chatbotdata/human_text.txt\"\n",
        "data_path2 = \"/content/drive/MyDrive/chatbotdata/robot_text.txt\""
      ],
      "metadata": {
        "id": "32MkE77-Jq6Q"
      },
      "execution_count": 6,
      "outputs": []
    },
    {
      "cell_type": "code",
      "source": [
        "with open(data_path, mode=\"r\",encoding=\"utf-8\") as f :\n",
        "  lines = f.read().split(\"\\n\")\n",
        "\n",
        "with open(data_path2, mode=\"r\", encoding=\"utf-8\") as f :\n",
        "  lines2 = f.read().split(\"\\n\")"
      ],
      "metadata": {
        "id": "jAvdkcG5Ksst"
      },
      "execution_count": 7,
      "outputs": []
    },
    {
      "cell_type": "code",
      "source": [
        "lines = [re.sub(r\"\\[\\w+\\]\",'hi',line) for line in lines]\n",
        "lines = [\" \".join(re.findall(r\"\\w+\",line)) for line in lines]\n",
        "\n",
        "lines2 = [re.sub(r\"\\[\\w+\\]\",'',line) for line in lines2]\n",
        "lines2 = [\" \".join(re.findall(r\"\\w+\",line)) for line in lines2]\n",
        "\n",
        "pairs = list(zip(lines,lines2))\n",
        "\n",
        "random.shuffle(pairs)"
      ],
      "metadata": {
        "id": "wSyFx1hzL1GT"
      },
      "execution_count": 8,
      "outputs": []
    },
    {
      "cell_type": "code",
      "source": [
        "input_docs = []\n",
        "target_docs = []\n",
        "input_tokens = set()\n",
        "target_tokens = set()\n",
        "\n",
        "for line in pairs[:400]:\n",
        "  input_doc, target_doc = line[0],line[1]\n",
        "  input_docs.append(input_doc)\n",
        "  target_doc = \" \".join(re.findall(r\"[\\w']+|[^\\s\\w]\", target_doc))\n",
        "  target_doc = '<START> ' + target_doc + ' <END>'\n",
        "  target_docs.append(target_doc)\n",
        "\n",
        "  for token in re.findall(r\"[\\w']+|[^\\s\\w]\", input_doc):\n",
        "    if token not in input_tokens:\n",
        "      input_tokens.add(token)\n",
        "  for token in target_doc.split():\n",
        "    if token not in target_tokens:\n",
        "      target_tokens.add(token)\n",
        "\n",
        "input_tokens = sorted(list(input_tokens))\n",
        "target_tokens = sorted(list(target_tokens))\n",
        "num_encoder_tokens = len(input_tokens)\n",
        "num_decoder_tokens = len(target_tokens)"
      ],
      "metadata": {
        "id": "ij3bnobqP_S5"
      },
      "execution_count": 9,
      "outputs": []
    },
    {
      "cell_type": "code",
      "source": [
        "input_features_dict = dict(\n",
        "    [(token, i) for i, token in enumerate(input_tokens)])\n",
        "target_features_dict = dict(\n",
        "    [(token, i) for i, token in enumerate(target_tokens)])\n",
        "\n",
        "reverse_input_features_dict = dict(\n",
        "    (i, token) for token, i in input_features_dict.items())\n",
        "reverse_target_features_dict = dict(\n",
        "    (i, token) for token, i in target_features_dict.items())"
      ],
      "metadata": {
        "id": "A2BbCEEpTD5h"
      },
      "execution_count": 10,
      "outputs": []
    },
    {
      "cell_type": "code",
      "source": [
        "# Maximum length of sentences in input and target documents\n",
        "max_encoder_seq_length = max([len(re.findall(r\"[\\w']+|[^\\s\\w]\", input_doc)) for input_doc in input_docs])\n"
      ],
      "metadata": {
        "id": "fQ8KRDLQYTY4"
      },
      "execution_count": 11,
      "outputs": []
    },
    {
      "cell_type": "code",
      "source": [
        "max_decoder_seq_length = max([len(re.findall(r\"[\\w']+|[^\\s\\w]\", target_doc)) for target_doc in target_docs])\n"
      ],
      "metadata": {
        "id": "zchf7YvKZHrN"
      },
      "execution_count": 12,
      "outputs": []
    },
    {
      "cell_type": "code",
      "source": [
        "encoder_input_data = np.zeros(\n",
        "    (len(input_docs), max_encoder_seq_length, num_encoder_tokens),\n",
        "    dtype='float16')\n"
      ],
      "metadata": {
        "id": "Y8RZRCu_ZMLW"
      },
      "execution_count": 13,
      "outputs": []
    },
    {
      "cell_type": "code",
      "source": [
        "decoder_input_data = np.zeros(\n",
        "    (len(input_docs), max_decoder_seq_length, num_decoder_tokens),\n",
        "    dtype='float16')"
      ],
      "metadata": {
        "id": "ndexpbeDZSCi"
      },
      "execution_count": 14,
      "outputs": []
    },
    {
      "cell_type": "code",
      "source": [
        "decoder_target_data = np.zeros(\n",
        "    (len(input_docs), max_decoder_seq_length, num_decoder_tokens),\n",
        "    dtype='float16')\n"
      ],
      "metadata": {
        "id": "OH3Lu1YcZWAl"
      },
      "execution_count": 15,
      "outputs": []
    },
    {
      "cell_type": "code",
      "source": [
        "for line, (input_doc, target_doc) in enumerate(zip(input_docs, target_docs)):\n",
        "    for timestep, token in enumerate(re.findall(r\"[\\w']+|[^\\s\\w]\", input_doc)):\n",
        "        # Assign 1. for the current line, timestep, & word in encoder_input_data\n",
        "        encoder_input_data[line, timestep, input_features_dict[token]] = 1.\n",
        "    \n",
        "    for timestep, token in enumerate(target_doc.split()):\n",
        "        decoder_input_data[line, timestep, target_features_dict[token]] = 1.\n",
        "        if timestep > 0:\n",
        "            decoder_target_data[line, timestep - 1, target_features_dict[token]] = 1"
      ],
      "metadata": {
        "id": "yh6WYCidZbAn"
      },
      "execution_count": 16,
      "outputs": []
    },
    {
      "cell_type": "code",
      "source": [
        "from tensorflow import keras\n",
        "from keras.layers import Input, LSTM, Dense\n",
        "from keras.models import Model\n",
        "#Dimensionality\n",
        "dimensionality = 256\n",
        "#The batch size and number of epochs\n",
        "batch_size = 10\n",
        "epochs = 100\n",
        "#Encoder\n",
        "encoder_inputs = Input(shape=(None, num_encoder_tokens))\n",
        "encoder_lstm = LSTM(dimensionality, return_state=True)\n",
        "encoder_outputs, state_hidden, state_cell = encoder_lstm(encoder_inputs)\n",
        "encoder_states = [state_hidden, state_cell]\n",
        "#Decoder\n",
        "decoder_inputs = Input(shape=(None, num_decoder_tokens))\n",
        "decoder_lstm = LSTM(dimensionality, return_sequences=True, return_state=True)\n",
        "decoder_outputs, decoder_state_hidden, decoder_state_cell = decoder_lstm(decoder_inputs, initial_state=encoder_states)\n",
        "decoder_dense = Dense(num_decoder_tokens, activation='softmax')\n",
        "decoder_outputs = decoder_dense(decoder_outputs)"
      ],
      "metadata": {
        "id": "knF1zRit6EsS"
      },
      "execution_count": 26,
      "outputs": []
    },
    {
      "cell_type": "code",
      "source": [
        "#set the random seed#\n",
        "import tensorflow as tf\n",
        "tf.random.set_seed(42)\n",
        "#Model\n",
        "training_model = Model([encoder_inputs, decoder_inputs], decoder_outputs)\n",
        "#Compiling\n",
        "training_model.compile(optimizer='rmsprop', loss='categorical_crossentropy', metrics=['accuracy'], sample_weight_mode='temporal')\n",
        "#Training\n",
        "training_model.fit([encoder_input_data, decoder_input_data], decoder_target_data, batch_size = batch_size, epochs = epochs, validation_split = 0.2)\n",
        "training_model.save('/content/drive/MyDrive/chatbotdata/mychatnotmodel_1')"
      ],
      "metadata": {
        "id": "v6K26xjT76jm",
        "outputId": "e8c8c3e9-ccc2-48a1-abe9-bc018f3170fa",
        "colab": {
          "base_uri": "https://localhost:8080/"
        }
      },
      "execution_count": 27,
      "outputs": [
        {
          "output_type": "stream",
          "name": "stdout",
          "text": [
            "Epoch 1/100\n",
            "32/32 [==============================] - 34s 924ms/step - loss: 0.4657 - accuracy: 0.0163 - val_loss: 0.4789 - val_accuracy: 0.0092\n",
            "Epoch 2/100\n",
            "32/32 [==============================] - 29s 923ms/step - loss: 0.4480 - accuracy: 0.0090 - val_loss: 0.4775 - val_accuracy: 0.0092\n",
            "Epoch 3/100\n",
            "32/32 [==============================] - 28s 880ms/step - loss: 0.4445 - accuracy: 0.0090 - val_loss: 0.4767 - val_accuracy: 0.0092\n",
            "Epoch 4/100\n",
            "32/32 [==============================] - 28s 890ms/step - loss: 0.4429 - accuracy: 0.0090 - val_loss: 0.4752 - val_accuracy: 0.0092\n",
            "Epoch 5/100\n",
            "32/32 [==============================] - 28s 885ms/step - loss: 0.4410 - accuracy: 0.0090 - val_loss: 0.4755 - val_accuracy: 0.0095\n",
            "Epoch 6/100\n",
            "32/32 [==============================] - 28s 869ms/step - loss: 0.4396 - accuracy: 0.0090 - val_loss: 0.4755 - val_accuracy: 0.0092\n",
            "Epoch 7/100\n",
            "32/32 [==============================] - 28s 867ms/step - loss: 0.4386 - accuracy: 0.0090 - val_loss: 0.4760 - val_accuracy: 0.0092\n",
            "Epoch 8/100\n",
            "32/32 [==============================] - 28s 887ms/step - loss: 0.4416 - accuracy: 0.0087 - val_loss: 0.4765 - val_accuracy: 0.0092\n",
            "Epoch 9/100\n",
            "32/32 [==============================] - 28s 882ms/step - loss: 0.4373 - accuracy: 0.0090 - val_loss: 0.4772 - val_accuracy: 0.0092\n",
            "Epoch 10/100\n",
            "32/32 [==============================] - 28s 883ms/step - loss: 0.4368 - accuracy: 0.0090 - val_loss: 0.4766 - val_accuracy: 0.0095\n",
            "Epoch 11/100\n",
            "32/32 [==============================] - 28s 876ms/step - loss: 0.4361 - accuracy: 0.0090 - val_loss: 0.4783 - val_accuracy: 0.0092\n",
            "Epoch 12/100\n",
            "32/32 [==============================] - 28s 874ms/step - loss: 0.4359 - accuracy: 0.0090 - val_loss: 0.4792 - val_accuracy: 0.0092\n",
            "Epoch 13/100\n",
            "32/32 [==============================] - 28s 868ms/step - loss: 0.4355 - accuracy: 0.0090 - val_loss: 0.4806 - val_accuracy: 0.0092\n",
            "Epoch 14/100\n",
            "32/32 [==============================] - 28s 872ms/step - loss: 0.4352 - accuracy: 0.0090 - val_loss: 0.4803 - val_accuracy: 0.0092\n",
            "Epoch 15/100\n",
            "32/32 [==============================] - 28s 870ms/step - loss: 0.4353 - accuracy: 0.0089 - val_loss: 0.4811 - val_accuracy: 0.0092\n",
            "Epoch 16/100\n",
            "32/32 [==============================] - 28s 874ms/step - loss: 0.4348 - accuracy: 0.0090 - val_loss: 0.4821 - val_accuracy: 0.0092\n",
            "Epoch 17/100\n",
            "32/32 [==============================] - 29s 899ms/step - loss: 0.4346 - accuracy: 0.0090 - val_loss: 0.4835 - val_accuracy: 0.0092\n",
            "Epoch 18/100\n",
            "32/32 [==============================] - 29s 902ms/step - loss: 0.4344 - accuracy: 0.0089 - val_loss: 0.4842 - val_accuracy: 0.0092\n",
            "Epoch 19/100\n",
            "32/32 [==============================] - 28s 891ms/step - loss: 0.4341 - accuracy: 0.0088 - val_loss: 0.4854 - val_accuracy: 0.0095\n",
            "Epoch 20/100\n",
            "32/32 [==============================] - 29s 895ms/step - loss: 0.4342 - accuracy: 0.0088 - val_loss: 0.4862 - val_accuracy: 0.0095\n",
            "Epoch 21/100\n",
            "32/32 [==============================] - 28s 883ms/step - loss: 0.4340 - accuracy: 0.0088 - val_loss: 0.4875 - val_accuracy: 0.0095\n",
            "Epoch 22/100\n",
            "32/32 [==============================] - 29s 899ms/step - loss: 0.4362 - accuracy: 0.0086 - val_loss: 0.4869 - val_accuracy: 0.0092\n",
            "Epoch 23/100\n",
            "32/32 [==============================] - 28s 883ms/step - loss: 0.4333 - accuracy: 0.0088 - val_loss: 0.4879 - val_accuracy: 0.0095\n",
            "Epoch 24/100\n",
            "32/32 [==============================] - 29s 910ms/step - loss: 0.4332 - accuracy: 0.0088 - val_loss: 0.4891 - val_accuracy: 0.0095\n",
            "Epoch 25/100\n",
            "32/32 [==============================] - 29s 909ms/step - loss: 0.4327 - accuracy: 0.0088 - val_loss: 0.4895 - val_accuracy: 0.0095\n",
            "Epoch 26/100\n",
            "32/32 [==============================] - 29s 908ms/step - loss: 0.4331 - accuracy: 0.0088 - val_loss: 0.4904 - val_accuracy: 0.0095\n",
            "Epoch 27/100\n",
            "32/32 [==============================] - 29s 916ms/step - loss: 0.4330 - accuracy: 0.0086 - val_loss: 0.4915 - val_accuracy: 0.0095\n",
            "Epoch 28/100\n",
            "32/32 [==============================] - 30s 937ms/step - loss: 0.4331 - accuracy: 0.0088 - val_loss: 0.4924 - val_accuracy: 0.0095\n",
            "Epoch 29/100\n",
            "32/32 [==============================] - 29s 918ms/step - loss: 0.4331 - accuracy: 0.0086 - val_loss: 0.4937 - val_accuracy: 0.0095\n",
            "Epoch 30/100\n",
            "32/32 [==============================] - 29s 911ms/step - loss: 0.4330 - accuracy: 0.0086 - val_loss: 0.4947 - val_accuracy: 0.0095\n",
            "Epoch 31/100\n",
            "32/32 [==============================] - 29s 910ms/step - loss: 0.4329 - accuracy: 0.0077 - val_loss: 0.4957 - val_accuracy: 0.0095\n",
            "Epoch 32/100\n",
            "32/32 [==============================] - 29s 911ms/step - loss: 0.4333 - accuracy: 0.0080 - val_loss: 0.4958 - val_accuracy: 0.0095\n",
            "Epoch 33/100\n",
            "32/32 [==============================] - 29s 906ms/step - loss: 0.4329 - accuracy: 0.0070 - val_loss: 0.4969 - val_accuracy: 0.0088\n",
            "Epoch 34/100\n",
            "32/32 [==============================] - 29s 896ms/step - loss: 0.4331 - accuracy: 0.0072 - val_loss: 0.4974 - val_accuracy: 0.0037\n",
            "Epoch 35/100\n",
            "32/32 [==============================] - 29s 913ms/step - loss: 0.4324 - accuracy: 0.0061 - val_loss: 0.4997 - val_accuracy: 0.0095\n",
            "Epoch 36/100\n",
            "32/32 [==============================] - 29s 913ms/step - loss: 0.4331 - accuracy: 0.0062 - val_loss: 0.5004 - val_accuracy: 0.0095\n",
            "Epoch 37/100\n",
            "32/32 [==============================] - 29s 903ms/step - loss: 0.4325 - accuracy: 0.0065 - val_loss: 0.5008 - val_accuracy: 0.0037\n",
            "Epoch 38/100\n",
            "32/32 [==============================] - 29s 901ms/step - loss: 0.4324 - accuracy: 0.0066 - val_loss: 0.5014 - val_accuracy: 0.0037\n",
            "Epoch 39/100\n",
            "32/32 [==============================] - 29s 899ms/step - loss: 0.4322 - accuracy: 0.0054 - val_loss: 0.5024 - val_accuracy: 0.0034\n",
            "Epoch 40/100\n",
            "32/32 [==============================] - 29s 900ms/step - loss: 0.4323 - accuracy: 0.0062 - val_loss: 0.5031 - val_accuracy: 0.0037\n",
            "Epoch 41/100\n",
            "32/32 [==============================] - 28s 878ms/step - loss: 0.4342 - accuracy: 0.0048 - val_loss: 0.5094 - val_accuracy: 0.0085\n",
            "Epoch 42/100\n",
            "32/32 [==============================] - 28s 890ms/step - loss: 0.4345 - accuracy: 0.0053 - val_loss: 0.5098 - val_accuracy: 0.0031\n",
            "Epoch 43/100\n",
            "32/32 [==============================] - 28s 890ms/step - loss: 0.4401 - accuracy: 0.0030 - val_loss: 0.5122 - val_accuracy: 0.0034\n",
            "Epoch 44/100\n",
            "32/32 [==============================] - 29s 908ms/step - loss: 0.4385 - accuracy: 0.0030 - val_loss: 0.5113 - val_accuracy: 0.0037\n",
            "Epoch 45/100\n",
            "32/32 [==============================] - 29s 897ms/step - loss: 0.4379 - accuracy: 0.0035 - val_loss: 0.5116 - val_accuracy: 0.0037\n",
            "Epoch 46/100\n",
            "32/32 [==============================] - 29s 899ms/step - loss: 0.4376 - accuracy: 0.0032 - val_loss: 0.5133 - val_accuracy: 0.0037\n",
            "Epoch 47/100\n",
            "32/32 [==============================] - 29s 914ms/step - loss: 0.4378 - accuracy: 0.0032 - val_loss: 0.5127 - val_accuracy: 0.0037\n",
            "Epoch 48/100\n",
            "32/32 [==============================] - 29s 915ms/step - loss: 0.4422 - accuracy: 0.0031 - val_loss: 0.5127 - val_accuracy: 0.0034\n",
            "Epoch 49/100\n",
            "32/32 [==============================] - 29s 919ms/step - loss: 0.4368 - accuracy: 0.0030 - val_loss: 0.5133 - val_accuracy: 0.0033\n",
            "Epoch 50/100\n",
            "32/32 [==============================] - 29s 903ms/step - loss: 0.4354 - accuracy: 0.0033 - val_loss: 0.5137 - val_accuracy: 0.0083\n",
            "Epoch 51/100\n",
            "32/32 [==============================] - 29s 896ms/step - loss: 0.4341 - accuracy: 0.0035 - val_loss: 0.5138 - val_accuracy: 0.0031\n",
            "Epoch 52/100\n",
            "32/32 [==============================] - 29s 904ms/step - loss: 0.4334 - accuracy: 0.0030 - val_loss: 0.5144 - val_accuracy: 0.0030\n",
            "Epoch 53/100\n",
            "32/32 [==============================] - 29s 900ms/step - loss: 0.4332 - accuracy: 0.0028 - val_loss: 0.5140 - val_accuracy: 0.0031\n",
            "Epoch 54/100\n",
            "32/32 [==============================] - 29s 903ms/step - loss: 0.4330 - accuracy: 0.0028 - val_loss: 0.5151 - val_accuracy: 0.0031\n",
            "Epoch 55/100\n",
            "32/32 [==============================] - 29s 895ms/step - loss: 0.4330 - accuracy: 0.0028 - val_loss: 0.5165 - val_accuracy: 0.0031\n",
            "Epoch 56/100\n",
            "32/32 [==============================] - 28s 881ms/step - loss: 0.4326 - accuracy: 0.0028 - val_loss: 0.5169 - val_accuracy: 0.0037\n",
            "Epoch 57/100\n",
            "32/32 [==============================] - 28s 892ms/step - loss: 0.4327 - accuracy: 0.0028 - val_loss: 0.5173 - val_accuracy: 0.0037\n",
            "Epoch 58/100\n",
            "32/32 [==============================] - 28s 884ms/step - loss: 0.4327 - accuracy: 0.0030 - val_loss: 0.5182 - val_accuracy: 0.0037\n",
            "Epoch 59/100\n",
            "32/32 [==============================] - 29s 903ms/step - loss: 0.4325 - accuracy: 0.0033 - val_loss: 0.5198 - val_accuracy: 0.0037\n",
            "Epoch 60/100\n",
            "32/32 [==============================] - 29s 906ms/step - loss: 0.4327 - accuracy: 0.0031 - val_loss: 0.5206 - val_accuracy: 0.0037\n",
            "Epoch 61/100\n",
            "32/32 [==============================] - 29s 906ms/step - loss: 0.4327 - accuracy: 0.0031 - val_loss: 0.5206 - val_accuracy: 0.0037\n",
            "Epoch 62/100\n",
            "32/32 [==============================] - 29s 903ms/step - loss: 0.4327 - accuracy: 0.0030 - val_loss: 0.5215 - val_accuracy: 0.0031\n",
            "Epoch 63/100\n",
            "32/32 [==============================] - 29s 900ms/step - loss: 0.4325 - accuracy: 0.0028 - val_loss: 0.5228 - val_accuracy: 0.0031\n",
            "Epoch 64/100\n",
            "32/32 [==============================] - 28s 887ms/step - loss: 0.4325 - accuracy: 0.0028 - val_loss: 0.5239 - val_accuracy: 0.0031\n",
            "Epoch 65/100\n",
            "32/32 [==============================] - 29s 910ms/step - loss: 0.4325 - accuracy: 0.0028 - val_loss: 0.5236 - val_accuracy: 0.0031\n",
            "Epoch 66/100\n",
            "32/32 [==============================] - 29s 907ms/step - loss: 0.4326 - accuracy: 0.0028 - val_loss: 0.5250 - val_accuracy: 0.0031\n",
            "Epoch 67/100\n",
            "32/32 [==============================] - 30s 939ms/step - loss: 0.4324 - accuracy: 0.0027 - val_loss: 0.5253 - val_accuracy: 0.0031\n",
            "Epoch 68/100\n",
            "32/32 [==============================] - 29s 921ms/step - loss: 0.4322 - accuracy: 0.0030 - val_loss: 0.5267 - val_accuracy: 0.0031\n",
            "Epoch 69/100\n",
            "32/32 [==============================] - 29s 912ms/step - loss: 0.4323 - accuracy: 0.0026 - val_loss: 0.5267 - val_accuracy: 0.0031\n",
            "Epoch 70/100\n",
            "32/32 [==============================] - 29s 921ms/step - loss: 0.4322 - accuracy: 0.0028 - val_loss: 0.5275 - val_accuracy: 0.0031\n",
            "Epoch 71/100\n",
            "32/32 [==============================] - 29s 918ms/step - loss: 0.4323 - accuracy: 0.0032 - val_loss: 0.5283 - val_accuracy: 0.0031\n",
            "Epoch 72/100\n",
            "32/32 [==============================] - 29s 908ms/step - loss: 0.4322 - accuracy: 0.0043 - val_loss: 0.5289 - val_accuracy: 0.0031\n",
            "Epoch 73/100\n",
            "32/32 [==============================] - 29s 906ms/step - loss: 0.4323 - accuracy: 0.0032 - val_loss: 0.5290 - val_accuracy: 0.0031\n",
            "Epoch 74/100\n",
            "32/32 [==============================] - 28s 890ms/step - loss: 0.4323 - accuracy: 0.0032 - val_loss: 0.5297 - val_accuracy: 0.0032\n",
            "Epoch 75/100\n",
            "32/32 [==============================] - 29s 897ms/step - loss: 0.4322 - accuracy: 0.0037 - val_loss: 0.5307 - val_accuracy: 0.0037\n",
            "Epoch 76/100\n",
            "32/32 [==============================] - 29s 893ms/step - loss: 0.4322 - accuracy: 0.0033 - val_loss: 0.5310 - val_accuracy: 0.0088\n",
            "Epoch 77/100\n",
            "32/32 [==============================] - 28s 890ms/step - loss: 0.4323 - accuracy: 0.0034 - val_loss: 0.5317 - val_accuracy: 0.0031\n",
            "Epoch 78/100\n",
            "32/32 [==============================] - 28s 891ms/step - loss: 0.4320 - accuracy: 0.0028 - val_loss: 0.5323 - val_accuracy: 0.0031\n",
            "Epoch 79/100\n",
            "32/32 [==============================] - 29s 905ms/step - loss: 0.4321 - accuracy: 0.0031 - val_loss: 0.5324 - val_accuracy: 0.0031\n",
            "Epoch 80/100\n",
            "32/32 [==============================] - 28s 888ms/step - loss: 0.4321 - accuracy: 0.0029 - val_loss: 0.5331 - val_accuracy: 0.0032\n",
            "Epoch 81/100\n",
            "32/32 [==============================] - 28s 887ms/step - loss: 0.4319 - accuracy: 0.0027 - val_loss: 0.5337 - val_accuracy: 0.0031\n",
            "Epoch 82/100\n",
            "32/32 [==============================] - 28s 887ms/step - loss: 0.4321 - accuracy: 0.0028 - val_loss: 0.5339 - val_accuracy: 0.0031\n",
            "Epoch 83/100\n",
            "32/32 [==============================] - 28s 881ms/step - loss: 0.4320 - accuracy: 0.0028 - val_loss: 0.5342 - val_accuracy: 0.0038\n",
            "Epoch 84/100\n",
            "32/32 [==============================] - 28s 892ms/step - loss: 0.4320 - accuracy: 0.0032 - val_loss: 0.5353 - val_accuracy: 0.0037\n",
            "Epoch 85/100\n",
            "32/32 [==============================] - 29s 902ms/step - loss: 0.4321 - accuracy: 0.0031 - val_loss: 0.5347 - val_accuracy: 0.0037\n",
            "Epoch 86/100\n",
            "32/32 [==============================] - 29s 896ms/step - loss: 0.4319 - accuracy: 0.0031 - val_loss: 0.5367 - val_accuracy: 0.0088\n",
            "Epoch 87/100\n",
            "32/32 [==============================] - 28s 887ms/step - loss: 0.4321 - accuracy: 0.0038 - val_loss: 0.5362 - val_accuracy: 0.0037\n",
            "Epoch 88/100\n",
            "32/32 [==============================] - 29s 920ms/step - loss: 0.4320 - accuracy: 0.0036 - val_loss: 0.5369 - val_accuracy: 0.0032\n",
            "Epoch 89/100\n",
            "32/32 [==============================] - 29s 907ms/step - loss: 0.4321 - accuracy: 0.0032 - val_loss: 0.5377 - val_accuracy: 0.0037\n",
            "Epoch 90/100\n",
            "32/32 [==============================] - 29s 907ms/step - loss: 0.4321 - accuracy: 0.0033 - val_loss: 0.5380 - val_accuracy: 0.0037\n",
            "Epoch 91/100\n",
            "32/32 [==============================] - 29s 894ms/step - loss: 0.4321 - accuracy: 0.0036 - val_loss: 0.5390 - val_accuracy: 0.0037\n",
            "Epoch 92/100\n",
            "32/32 [==============================] - 29s 900ms/step - loss: 0.4323 - accuracy: 0.0040 - val_loss: 0.5385 - val_accuracy: 0.0037\n",
            "Epoch 93/100\n",
            "32/32 [==============================] - 29s 894ms/step - loss: 0.4321 - accuracy: 0.0034 - val_loss: 0.5391 - val_accuracy: 0.0037\n",
            "Epoch 94/100\n",
            "32/32 [==============================] - 29s 899ms/step - loss: 0.4321 - accuracy: 0.0037 - val_loss: 0.5398 - val_accuracy: 0.0037\n",
            "Epoch 95/100\n",
            "32/32 [==============================] - 29s 897ms/step - loss: 0.4322 - accuracy: 0.0038 - val_loss: 0.5390 - val_accuracy: 0.0037\n",
            "Epoch 96/100\n",
            "32/32 [==============================] - 29s 894ms/step - loss: 0.4321 - accuracy: 0.0036 - val_loss: 0.5398 - val_accuracy: 0.0038\n",
            "Epoch 97/100\n",
            "32/32 [==============================] - 29s 917ms/step - loss: 0.4321 - accuracy: 0.0034 - val_loss: 0.5410 - val_accuracy: 0.0037\n",
            "Epoch 98/100\n",
            "32/32 [==============================] - 29s 895ms/step - loss: 0.4321 - accuracy: 0.0035 - val_loss: 0.5414 - val_accuracy: 0.0031\n",
            "Epoch 99/100\n",
            "32/32 [==============================] - 29s 899ms/step - loss: 0.4323 - accuracy: 0.0034 - val_loss: 0.5409 - val_accuracy: 0.0034\n",
            "Epoch 100/100\n",
            "32/32 [==============================] - 28s 893ms/step - loss: 0.4322 - accuracy: 0.0033 - val_loss: 0.5413 - val_accuracy: 0.0037\n"
          ]
        },
        {
          "output_type": "stream",
          "name": "stderr",
          "text": [
            "WARNING:absl:Found untraced functions such as lstm_cell_4_layer_call_fn, lstm_cell_4_layer_call_and_return_conditional_losses, lstm_cell_5_layer_call_fn, lstm_cell_5_layer_call_and_return_conditional_losses while saving (showing 4 of 4). These functions will not be directly callable after loading.\n"
          ]
        },
        {
          "output_type": "stream",
          "name": "stdout",
          "text": [
            "INFO:tensorflow:Assets written to: /content/drive/MyDrive/chatbotdata/mychatnotmodel_1/assets\n"
          ]
        },
        {
          "output_type": "stream",
          "name": "stderr",
          "text": [
            "INFO:tensorflow:Assets written to: /content/drive/MyDrive/chatbotdata/mychatnotmodel_1/assets\n",
            "WARNING:absl:<keras.layers.recurrent.LSTMCell object at 0x7f74cb330710> has the same name 'LSTMCell' as a built-in Keras object. Consider renaming <class 'keras.layers.recurrent.LSTMCell'> to avoid naming conflicts when loading with `tf.keras.models.load_model`. If renaming is not possible, pass the object in the `custom_objects` parameter of the load function.\n",
            "WARNING:absl:<keras.layers.recurrent.LSTMCell object at 0x7f74cf493c10> has the same name 'LSTMCell' as a built-in Keras object. Consider renaming <class 'keras.layers.recurrent.LSTMCell'> to avoid naming conflicts when loading with `tf.keras.models.load_model`. If renaming is not possible, pass the object in the `custom_objects` parameter of the load function.\n"
          ]
        }
      ]
    },
    {
      "cell_type": "code",
      "source": [
        "model1 = tf.keras.models.load_model('/content/drive/MyDrive/chatbotdata/mychatnotmodel_1')"
      ],
      "metadata": {
        "id": "yI0sPQWHxrGg"
      },
      "execution_count": 28,
      "outputs": []
    },
    {
      "cell_type": "code",
      "source": [
        "model1.summary()"
      ],
      "metadata": {
        "colab": {
          "base_uri": "https://localhost:8080/"
        },
        "id": "HRaD3AEax0em",
        "outputId": "de8a5acd-1da8-4a0f-d084-0af696e7e01b"
      },
      "execution_count": 29,
      "outputs": [
        {
          "output_type": "stream",
          "name": "stdout",
          "text": [
            "Model: \"model_2\"\n",
            "__________________________________________________________________________________________________\n",
            " Layer (type)                   Output Shape         Param #     Connected to                     \n",
            "==================================================================================================\n",
            " input_3 (InputLayer)           [(None, None, 1117)  0           []                               \n",
            "                                ]                                                                 \n",
            "                                                                                                  \n",
            " input_4 (InputLayer)           [(None, None, 1081)  0           []                               \n",
            "                                ]                                                                 \n",
            "                                                                                                  \n",
            " lstm_2 (LSTM)                  [(None, 256),        1406976     ['input_3[0][0]']                \n",
            "                                 (None, 256),                                                     \n",
            "                                 (None, 256)]                                                     \n",
            "                                                                                                  \n",
            " lstm_3 (LSTM)                  [(None, None, 256),  1370112     ['input_4[0][0]',                \n",
            "                                 (None, 256),                     'lstm_2[0][1]',                 \n",
            "                                 (None, 256)]                     'lstm_2[0][2]']                 \n",
            "                                                                                                  \n",
            " dense_1 (Dense)                (None, None, 1081)   277817      ['lstm_3[0][0]']                 \n",
            "                                                                                                  \n",
            "==================================================================================================\n",
            "Total params: 3,054,905\n",
            "Trainable params: 3,054,905\n",
            "Non-trainable params: 0\n",
            "__________________________________________________________________________________________________\n"
          ]
        }
      ]
    }
  ],
  "metadata": {
    "colab": {
      "collapsed_sections": [],
      "name": "CHATBOT2.ipynb",
      "provenance": [],
      "mount_file_id": "https://github.com/awannabecs/PublicTensorflowRepository/blob/main/CHATBOT**.ipynb",
      "authorship_tag": "ABX9TyPtT8ft1MflIQLKMvwTThxr",
      "include_colab_link": true
    },
    "kernelspec": {
      "display_name": "Python 3",
      "name": "python3"
    },
    "language_info": {
      "name": "python"
    }
  },
  "nbformat": 4,
  "nbformat_minor": 0
}