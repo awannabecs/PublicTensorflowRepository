{
  "cells": [
    {
      "cell_type": "markdown",
      "metadata": {
        "id": "view-in-github",
        "colab_type": "text"
      },
      "source": [
        "<a href=\"https://colab.research.google.com/github/awannabecs/PublicTensorflowRepository/blob/main/Untitled0.ipynb\" target=\"_parent\"><img src=\"https://colab.research.google.com/assets/colab-badge.svg\" alt=\"Open In Colab\"/></a>"
      ]
    },
    {
      "cell_type": "code",
      "source": [
        "import tensorflow as tf\n",
        "import numpy as np\n",
        "import sklearn as sl\n",
        "import pandas as pd\n",
        "import matplotlib.pyplot as plt\n",
        "from tensorflow.keras.datasets import fashion_mnist as fm"
      ],
      "metadata": {
        "id": "UqOoIFD1fqC1"
      },
      "execution_count": 1,
      "outputs": []
    },
    {
      "cell_type": "markdown",
      "source": [
        "### MULTI-CLASS ***CLASSIFICATION*** ###\n"
      ],
      "metadata": {
        "id": "VRV2OxEyyzhD"
      }
    },
    {
      "cell_type": "code",
      "source": [
        "### load the data,find the labels and feature###\n",
        "(train_data,train_labels),(test_data,test_labels) = fm.load_data()"
      ],
      "metadata": {
        "id": "5ymYXt9Py77y"
      },
      "execution_count": 2,
      "outputs": []
    },
    {
      "cell_type": "code",
      "source": [
        "### CREATE THE MODEL\n",
        "tf.random.set_seed(22)\n",
        "\n",
        "model = tf.keras.Sequential([\n",
        "tf.keras.layers.Flatten(input_shape=(28,28)), \n",
        "tf.keras.layers.Dense(4,activation=\"relu\"),\n",
        "tf.keras.layers.Dense(4,activation=\"relu\"),                             \n",
        "tf.keras.layers.Dense(10,activation=\"softmax\")                             \n",
        "])\n",
        "\n",
        "model.compile(loss=tf.keras.losses.sparse_categorical_crossentropy,\n",
        "              optimizer=tf.keras.optimizers.Adam(),\n",
        "              metrics=[\"accuracy\"])\n",
        "\n",
        "history_model = model.fit(train_data,train_labels,epochs=10,validation_data=(test_data,test_labels))"
      ],
      "metadata": {
        "id": "h2y8Ag7UMJIO",
        "outputId": "b8d880ea-5159-4358-dd46-7d26b3abceb1",
        "colab": {
          "base_uri": "https://localhost:8080/"
        }
      },
      "execution_count": 3,
      "outputs": [
        {
          "output_type": "stream",
          "name": "stdout",
          "text": [
            "Epoch 1/10\n",
            "1875/1875 [==============================] - 10s 5ms/step - loss: 2.3324 - accuracy: 0.1071 - val_loss: 2.2797 - val_accuracy: 0.1103\n",
            "Epoch 2/10\n",
            "1875/1875 [==============================] - 5s 3ms/step - loss: 2.2630 - accuracy: 0.1186 - val_loss: 2.2425 - val_accuracy: 0.1251\n",
            "Epoch 3/10\n",
            "1875/1875 [==============================] - 5s 3ms/step - loss: 2.1860 - accuracy: 0.1502 - val_loss: 2.0694 - val_accuracy: 0.1841\n",
            "Epoch 4/10\n",
            "1875/1875 [==============================] - 5s 3ms/step - loss: 1.9003 - accuracy: 0.2031 - val_loss: 1.8435 - val_accuracy: 0.2077\n",
            "Epoch 5/10\n",
            "1875/1875 [==============================] - 5s 2ms/step - loss: 1.7874 - accuracy: 0.2185 - val_loss: 1.7397 - val_accuracy: 0.2420\n",
            "Epoch 6/10\n",
            "1875/1875 [==============================] - 4s 2ms/step - loss: 1.7548 - accuracy: 0.2304 - val_loss: 1.7278 - val_accuracy: 0.2348\n",
            "Epoch 7/10\n",
            "1875/1875 [==============================] - 5s 2ms/step - loss: 1.7284 - accuracy: 0.2452 - val_loss: 1.7090 - val_accuracy: 0.2395\n",
            "Epoch 8/10\n",
            "1875/1875 [==============================] - 4s 2ms/step - loss: 1.7083 - accuracy: 0.2578 - val_loss: 1.6822 - val_accuracy: 0.2726\n",
            "Epoch 9/10\n",
            "1875/1875 [==============================] - 5s 3ms/step - loss: 1.6941 - accuracy: 0.2663 - val_loss: 1.6705 - val_accuracy: 0.2783\n",
            "Epoch 10/10\n",
            "1875/1875 [==============================] - 4s 2ms/step - loss: 1.6822 - accuracy: 0.2677 - val_loss: 1.7154 - val_accuracy: 0.2593\n"
          ]
        }
      ]
    },
    {
      "cell_type": "code",
      "source": [
        "train_data_2 = train_data / 255\n",
        "test_data_2 = test_data / 255"
      ],
      "metadata": {
        "id": "KnfP8vdnMiNu"
      },
      "execution_count": 4,
      "outputs": []
    },
    {
      "cell_type": "code",
      "source": [
        "tf.random.set_seed(22)\n",
        "\n",
        "model_2 = tf.keras.Sequential([\n",
        "tf.keras.layers.Flatten(input_shape=(28,28)),\n",
        "tf.keras.layers.Dense(4,activation=\"relu\"),\n",
        "tf.keras.layers.Dense(4,activation=\"relu\"),                               \n",
        "tf.keras.layers.Dense(10,activation=\"softmax\")\n",
        "])\n",
        "\n",
        "model_2.compile(loss=tf.keras.losses.SparseCategoricalCrossentropy(),\n",
        "              optimizer=tf.keras.optimizers.Adam(),\n",
        "              metrics=[\"accuracy\"])\n",
        "\n",
        "model_history_2 = model_2.fit(train_data_2,train_labels,epochs=10,validation_data=(test_data_2,test_labels))"
      ],
      "metadata": {
        "id": "GU0mlKWTauUb",
        "outputId": "00969458-84a2-4e28-c1c8-5f7891b6b696",
        "colab": {
          "base_uri": "https://localhost:8080/"
        }
      },
      "execution_count": 13,
      "outputs": [
        {
          "output_type": "stream",
          "name": "stdout",
          "text": [
            "Epoch 1/10\n",
            "1875/1875 [==============================] - 5s 2ms/step - loss: 1.5726 - accuracy: 0.3585 - val_loss: 1.3761 - val_accuracy: 0.4240\n",
            "Epoch 2/10\n",
            "1875/1875 [==============================] - 4s 2ms/step - loss: 1.0955 - accuracy: 0.5991 - val_loss: 0.8883 - val_accuracy: 0.7033\n",
            "Epoch 3/10\n",
            "1875/1875 [==============================] - 5s 2ms/step - loss: 0.8125 - accuracy: 0.7232 - val_loss: 0.7817 - val_accuracy: 0.7357\n",
            "Epoch 4/10\n",
            "1875/1875 [==============================] - 5s 2ms/step - loss: 0.7441 - accuracy: 0.7380 - val_loss: 0.7473 - val_accuracy: 0.7400\n",
            "Epoch 5/10\n",
            "1875/1875 [==============================] - 5s 2ms/step - loss: 0.7057 - accuracy: 0.7473 - val_loss: 0.7013 - val_accuracy: 0.7563\n",
            "Epoch 6/10\n",
            "1875/1875 [==============================] - 5s 3ms/step - loss: 0.6776 - accuracy: 0.7558 - val_loss: 0.6799 - val_accuracy: 0.7599\n",
            "Epoch 7/10\n",
            "1875/1875 [==============================] - 5s 2ms/step - loss: 0.6552 - accuracy: 0.7635 - val_loss: 0.6607 - val_accuracy: 0.7661\n",
            "Epoch 8/10\n",
            "1875/1875 [==============================] - 5s 3ms/step - loss: 0.6327 - accuracy: 0.7739 - val_loss: 0.6457 - val_accuracy: 0.7777\n",
            "Epoch 9/10\n",
            "1875/1875 [==============================] - 5s 3ms/step - loss: 0.6114 - accuracy: 0.7856 - val_loss: 0.6373 - val_accuracy: 0.7823\n",
            "Epoch 10/10\n",
            "1875/1875 [==============================] - 4s 2ms/step - loss: 0.5998 - accuracy: 0.7899 - val_loss: 0.6208 - val_accuracy: 0.7850\n"
          ]
        }
      ]
    },
    {
      "cell_type": "code",
      "source": [
        "import pandas as pd\n",
        "\n",
        "pd.DataFrame(history_model.history).plot()"
      ],
      "metadata": {
        "id": "405jbBtZhXxF",
        "outputId": "2b180d8f-111b-4987-cf79-1dd8693e126d",
        "colab": {
          "base_uri": "https://localhost:8080/",
          "height": 284
        }
      },
      "execution_count": 6,
      "outputs": [
        {
          "output_type": "execute_result",
          "data": {
            "text/plain": [
              "<matplotlib.axes._subplots.AxesSubplot at 0x7f4eb38451d0>"
            ]
          },
          "metadata": {},
          "execution_count": 6
        },
        {
          "output_type": "display_data",
          "data": {
            "text/plain": [
              "<Figure size 432x288 with 1 Axes>"
            ],
            "image/png": "[encoded data removed]"
          },
          "metadata": {
            "needs_background": "light"
          }
        }
      ]
    },
    {
      "cell_type": "code",
      "source": [
        "pd.DataFrame(model_history_2.history).plot()"
      ],
      "metadata": {
        "id": "oUkH-tK9hpE-",
        "outputId": "a79d7332-5a7f-477c-dc7e-8636e01ae4b9",
        "colab": {
          "base_uri": "https://localhost:8080/",
          "height": 284
        }
      },
      "execution_count": 7,
      "outputs": [
        {
          "output_type": "execute_result",
          "data": {
            "text/plain": [
              "<matplotlib.axes._subplots.AxesSubplot at 0x7f4eb41ec8d0>"
            ]
          },
          "metadata": {},
          "execution_count": 7
        },
        {
          "output_type": "display_data",
          "data": {
            "text/plain": [
              "<Figure size 432x288 with 1 Axes>"
            ],
            "image/png": "[encoded data removed]"
          },
          "metadata": {
            "needs_background": "light"
          }
        }
      ]
    },
    {
      "cell_type": "code",
      "source": [
        "tf.random.set_seed(22)\n",
        "\n",
        "model_3 = tf.keras.Sequential([\n",
        "tf.keras.layers.Flatten(input_shape=(28,28)),\n",
        "tf.keras.layers.Dense(4,activation=\"relu\"),\n",
        "tf.keras.layers.Dense(4,activation=\"relu\"),                               \n",
        "tf.keras.layers.Dense(10,activation=\"softmax\")\n",
        "])\n",
        "\n",
        "model_3.compile(loss=tf.keras.losses.SparseCategoricalCrossentropy(),\n",
        "                optimizer=tf.keras.optimizers.Adam(),\n",
        "                metrics=[\"accuracy\"])\n",
        "lr_scheduler = tf.keras.callbacks.LearningRateScheduler(lambda epoch: 1e-3 * 10**(epoch/20))\n",
        "\n",
        "model_3_history = model_3.fit(train_data_2,train_labels,epochs=40,validation_data=(test_data_2,test_labels),callbacks=lr_scheduler)"
      ],
      "metadata": {
        "id": "zWEZiHthjriY",
        "outputId": "01eca630-2144-4314-e95d-c3cc83aae668",
        "colab": {
          "base_uri": "https://localhost:8080/"
        }
      },
      "execution_count": 14,
      "outputs": [
        {
          "output_type": "stream",
          "name": "stdout",
          "text": [
            "Epoch 1/40\n",
            "1875/1875 [==============================] - 5s 3ms/step - loss: 1.5726 - accuracy: 0.3585 - val_loss: 1.3761 - val_accuracy: 0.4240 - lr: 0.0010\n",
            "Epoch 2/40\n",
            "1875/1875 [==============================] - 5s 3ms/step - loss: 1.0912 - accuracy: 0.5971 - val_loss: 0.8852 - val_accuracy: 0.7189 - lr: 0.0011\n",
            "Epoch 3/40\n",
            "1875/1875 [==============================] - 5s 3ms/step - loss: 0.7927 - accuracy: 0.7304 - val_loss: 0.7514 - val_accuracy: 0.7346 - lr: 0.0013\n",
            "Epoch 4/40\n",
            "1875/1875 [==============================] - 6s 3ms/step - loss: 0.7096 - accuracy: 0.7454 - val_loss: 0.7210 - val_accuracy: 0.7392 - lr: 0.0014\n",
            "Epoch 5/40\n",
            "1875/1875 [==============================] - 10s 5ms/step - loss: 0.6651 - accuracy: 0.7569 - val_loss: 0.6728 - val_accuracy: 0.7575 - lr: 0.0016\n",
            "Epoch 6/40\n",
            "1875/1875 [==============================] - 7s 4ms/step - loss: 0.6369 - accuracy: 0.7645 - val_loss: 0.6641 - val_accuracy: 0.7595 - lr: 0.0018\n",
            "Epoch 7/40\n",
            "1875/1875 [==============================] - 9s 5ms/step - loss: 0.6220 - accuracy: 0.7714 - val_loss: 0.6413 - val_accuracy: 0.7676 - lr: 0.0020\n",
            "Epoch 8/40\n",
            "1875/1875 [==============================] - 6s 3ms/step - loss: 0.6123 - accuracy: 0.7756 - val_loss: 0.6290 - val_accuracy: 0.7701 - lr: 0.0022\n",
            "Epoch 9/40\n",
            "1875/1875 [==============================] - 5s 3ms/step - loss: 0.6049 - accuracy: 0.7786 - val_loss: 0.6407 - val_accuracy: 0.7668 - lr: 0.0025\n",
            "Epoch 10/40\n",
            "1875/1875 [==============================] - 5s 2ms/step - loss: 0.6014 - accuracy: 0.7792 - val_loss: 0.6155 - val_accuracy: 0.7792 - lr: 0.0028\n",
            "Epoch 11/40\n",
            "1875/1875 [==============================] - 5s 2ms/step - loss: 0.5937 - accuracy: 0.7911 - val_loss: 0.6267 - val_accuracy: 0.7819 - lr: 0.0032\n",
            "Epoch 12/40\n",
            "1875/1875 [==============================] - 4s 2ms/step - loss: 0.5835 - accuracy: 0.7960 - val_loss: 0.6070 - val_accuracy: 0.7930 - lr: 0.0035\n",
            "Epoch 13/40\n",
            "1875/1875 [==============================] - 4s 2ms/step - loss: 0.5794 - accuracy: 0.7998 - val_loss: 0.6025 - val_accuracy: 0.7953 - lr: 0.0040\n",
            "Epoch 14/40\n",
            "1875/1875 [==============================] - 5s 2ms/step - loss: 0.5785 - accuracy: 0.7979 - val_loss: 0.5951 - val_accuracy: 0.7935 - lr: 0.0045\n",
            "Epoch 15/40\n",
            "1875/1875 [==============================] - 5s 3ms/step - loss: 0.5825 - accuracy: 0.7968 - val_loss: 0.6204 - val_accuracy: 0.7783 - lr: 0.0050\n",
            "Epoch 16/40\n",
            "1875/1875 [==============================] - 5s 3ms/step - loss: 0.5822 - accuracy: 0.7980 - val_loss: 0.6183 - val_accuracy: 0.7783 - lr: 0.0056\n",
            "Epoch 17/40\n",
            "1875/1875 [==============================] - 5s 3ms/step - loss: 0.5827 - accuracy: 0.7950 - val_loss: 0.6079 - val_accuracy: 0.7874 - lr: 0.0063\n",
            "Epoch 18/40\n",
            "1875/1875 [==============================] - 5s 3ms/step - loss: 0.5837 - accuracy: 0.7955 - val_loss: 0.6126 - val_accuracy: 0.7851 - lr: 0.0071\n",
            "Epoch 19/40\n",
            "1875/1875 [==============================] - 5s 3ms/step - loss: 0.5857 - accuracy: 0.7952 - val_loss: 0.6302 - val_accuracy: 0.7669 - lr: 0.0079\n",
            "Epoch 20/40\n",
            "1875/1875 [==============================] - 5s 2ms/step - loss: 0.5894 - accuracy: 0.7927 - val_loss: 0.5976 - val_accuracy: 0.7920 - lr: 0.0089\n",
            "Epoch 21/40\n",
            "1875/1875 [==============================] - 5s 3ms/step - loss: 0.5925 - accuracy: 0.7931 - val_loss: 0.5856 - val_accuracy: 0.7924 - lr: 0.0100\n",
            "Epoch 22/40\n",
            "1875/1875 [==============================] - 5s 3ms/step - loss: 0.5974 - accuracy: 0.7906 - val_loss: 0.6041 - val_accuracy: 0.7967 - lr: 0.0112\n",
            "Epoch 23/40\n",
            "1875/1875 [==============================] - 5s 3ms/step - loss: 0.5997 - accuracy: 0.7890 - val_loss: 0.6121 - val_accuracy: 0.7869 - lr: 0.0126\n",
            "Epoch 24/40\n",
            "1875/1875 [==============================] - 4s 2ms/step - loss: 0.6074 - accuracy: 0.7880 - val_loss: 0.6509 - val_accuracy: 0.7615 - lr: 0.0141\n",
            "Epoch 25/40\n",
            "1875/1875 [==============================] - 6s 3ms/step - loss: 0.6122 - accuracy: 0.7857 - val_loss: 0.7468 - val_accuracy: 0.7332 - lr: 0.0158\n",
            "Epoch 26/40\n",
            "1875/1875 [==============================] - 5s 3ms/step - loss: 0.6255 - accuracy: 0.7805 - val_loss: 0.6679 - val_accuracy: 0.7753 - lr: 0.0178\n",
            "Epoch 27/40\n",
            "1875/1875 [==============================] - 5s 3ms/step - loss: 0.6331 - accuracy: 0.7776 - val_loss: 0.6672 - val_accuracy: 0.7593 - lr: 0.0200\n",
            "Epoch 28/40\n",
            "1875/1875 [==============================] - 5s 3ms/step - loss: 0.6468 - accuracy: 0.7730 - val_loss: 0.6550 - val_accuracy: 0.7724 - lr: 0.0224\n",
            "Epoch 29/40\n",
            "1875/1875 [==============================] - 5s 3ms/step - loss: 0.6656 - accuracy: 0.7646 - val_loss: 0.8039 - val_accuracy: 0.7188 - lr: 0.0251\n",
            "Epoch 30/40\n",
            "1875/1875 [==============================] - 5s 2ms/step - loss: 0.6844 - accuracy: 0.7614 - val_loss: 0.6911 - val_accuracy: 0.7535 - lr: 0.0282\n",
            "Epoch 31/40\n",
            "1875/1875 [==============================] - 5s 2ms/step - loss: 0.7015 - accuracy: 0.7515 - val_loss: 0.7638 - val_accuracy: 0.7335 - lr: 0.0316\n",
            "Epoch 32/40\n",
            "1875/1875 [==============================] - 5s 2ms/step - loss: 0.7346 - accuracy: 0.7401 - val_loss: 0.8223 - val_accuracy: 0.6714 - lr: 0.0355\n",
            "Epoch 33/40\n",
            "1875/1875 [==============================] - 5s 3ms/step - loss: 0.7612 - accuracy: 0.7247 - val_loss: 0.8137 - val_accuracy: 0.6992 - lr: 0.0398\n",
            "Epoch 34/40\n",
            "1875/1875 [==============================] - 5s 3ms/step - loss: 0.7926 - accuracy: 0.7085 - val_loss: 0.7420 - val_accuracy: 0.7400 - lr: 0.0447\n",
            "Epoch 35/40\n",
            "1875/1875 [==============================] - 7s 4ms/step - loss: 0.8148 - accuracy: 0.7034 - val_loss: 0.8863 - val_accuracy: 0.6678 - lr: 0.0501\n",
            "Epoch 36/40\n",
            "1875/1875 [==============================] - 5s 3ms/step - loss: 0.8785 - accuracy: 0.6780 - val_loss: 0.9190 - val_accuracy: 0.6038 - lr: 0.0562\n",
            "Epoch 37/40\n",
            "1875/1875 [==============================] - 5s 3ms/step - loss: 0.9475 - accuracy: 0.6408 - val_loss: 0.9061 - val_accuracy: 0.6275 - lr: 0.0631\n",
            "Epoch 38/40\n",
            "1875/1875 [==============================] - 5s 3ms/step - loss: 1.0500 - accuracy: 0.6043 - val_loss: 1.5237 - val_accuracy: 0.4103 - lr: 0.0708\n",
            "Epoch 39/40\n",
            "1875/1875 [==============================] - 5s 3ms/step - loss: 1.2148 - accuracy: 0.5069 - val_loss: 1.1692 - val_accuracy: 0.5530 - lr: 0.0794\n",
            "Epoch 40/40\n",
            "1875/1875 [==============================] - 5s 2ms/step - loss: 1.4069 - accuracy: 0.4099 - val_loss: 1.6265 - val_accuracy: 0.3335 - lr: 0.0891\n"
          ]
        }
      ]
    },
    {
      "cell_type": "code",
      "source": [
        "pd.DataFrame(model_3_history.history).plot()"
      ],
      "metadata": {
        "id": "rNLN_DVbmI6q",
        "outputId": "38048166-38e7-465c-ed03-bada1f513d75",
        "colab": {
          "base_uri": "https://localhost:8080/",
          "height": 284
        }
      },
      "execution_count": 19,
      "outputs": [
        {
          "output_type": "execute_result",
          "data": {
            "text/plain": [
              "<matplotlib.axes._subplots.AxesSubplot at 0x7f4eb489c1d0>"
            ]
          },
          "metadata": {},
          "execution_count": 19
        },
        {
          "output_type": "display_data",
          "data": {
            "text/plain": [
              "<Figure size 432x288 with 1 Axes>"
            ],
            "image/png": "[encoded data removed]"
          },
          "metadata": {
            "needs_background": "light"
          }
        }
      ]
    }
  ],
  "metadata": {
    "colab": {
      "collapsed_sections": [],
      "name": "Untitled0.ipynb",
      "provenance": [],
      "mount_file_id": "1ylOUYHnEzcWHzrVYn7pvYXrfLm3YkqYG",
      "authorship_tag": "ABX9TyNTmAfzFIzU6TFbfJVLI3HW",
      "include_colab_link": true
    },
    "kernelspec": {
      "display_name": "Python 3",
      "name": "python3"
    },
    "language_info": {
      "name": "python"
    }
  },
  "nbformat": 4,
  "nbformat_minor": 0
}