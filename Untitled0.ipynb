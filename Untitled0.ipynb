{
  "cells": [
    {
      "cell_type": "markdown",
      "metadata": {
        "id": "view-in-github",
        "colab_type": "text"
      },
      "source": [
        "<a href=\"https://colab.research.google.com/github/awannabecs/PublicTensorflowRepository/blob/main/Untitled0.ipynb\" target=\"_parent\"><img src=\"https://colab.research.google.com/assets/colab-badge.svg\" alt=\"Open In Colab\"/></a>"
      ]
    },
    {
      "cell_type": "code",
      "execution_count": 124,
      "metadata": {
        "id": "5eIap0M1zL6O"
      },
      "outputs": [],
      "source": [
        "import tensorflow as tf\n",
        "import matplotlib.pyplot as plt\n",
        "import sklearn\n",
        "import pandas as pd"
      ]
    },
    {
      "cell_type": "code",
      "execution_count": 125,
      "metadata": {
        "id": "SOTbN33izPhb"
      },
      "outputs": [],
      "source": [
        "#LOADED THE MODEL#\n",
        "d = pd.read_csv('/house-prices.csv')"
      ]
    },
    {
      "cell_type": "code",
      "source": [
        "# SET THE X AND Y #\n",
        "y = d[\"Price\"]\n",
        "X = d.drop(labels=[\"Price\",\"Home\"],axis=1)\n",
        "X = pd.get_dummies(X)"
      ],
      "metadata": {
        "id": "kohlh-Dm0GHc"
      },
      "execution_count": 126,
      "outputs": []
    },
    {
      "cell_type": "code",
      "source": [
        "# SET THE TRAINING AND TEST SET#\n",
        "y_train, y_test = y[:102], y[102:]\n",
        "X_train, X_test = X[:102], X[102:]"
      ],
      "metadata": {
        "id": "nJHs_CnBAc_Q"
      },
      "execution_count": 127,
      "outputs": []
    },
    {
      "cell_type": "code",
      "source": [
        "# CREATE, COMPILE AND FIT THE MODEL #\n",
        "tf.random.set_seed(42)\n",
        "model_1 = tf.keras.Sequential([\n",
        "tf.keras.layers.Dense(1)                 \n",
        "])\n",
        "model_1.compile(loss=tf.keras.losses.mae,\n",
        "                optimizer=tf.keras.optimizers.SGD(),\n",
        "                metrics=tf.keras.metrics.mae)\n",
        "history = model_1.fit(X_train,y_train,epochs=5)"
      ],
      "metadata": {
        "colab": {
          "base_uri": "https://localhost:8080/"
        },
        "id": "wgz_tWw0CUFN",
        "outputId": "85d5bd2b-741e-4c63-c380-06b05d2d5bee"
      },
      "execution_count": 133,
      "outputs": [
        {
          "output_type": "stream",
          "name": "stdout",
          "text": [
            "Epoch 1/5\n",
            "4/4 [==============================] - 0s 4ms/step - loss: 86450.1797 - mean_absolute_error: 86450.1797\n",
            "Epoch 2/5\n",
            "4/4 [==============================] - 0s 4ms/step - loss: 18269.5508 - mean_absolute_error: 18269.5508\n",
            "Epoch 3/5\n",
            "4/4 [==============================] - 0s 5ms/step - loss: 17956.2617 - mean_absolute_error: 17956.2617\n",
            "Epoch 4/5\n",
            "4/4 [==============================] - 0s 4ms/step - loss: 22666.0996 - mean_absolute_error: 22666.0996\n",
            "Epoch 5/5\n",
            "4/4 [==============================] - 0s 4ms/step - loss: 21076.3242 - mean_absolute_error: 21076.3242\n"
          ]
        }
      ]
    },
    {
      "cell_type": "code",
      "source": [
        "from sklearn.preprocessing import MinMaxScaler as mms"
      ],
      "metadata": {
        "id": "Bz17I5CVGKka"
      },
      "execution_count": 134,
      "outputs": []
    },
    {
      "cell_type": "code",
      "source": [
        "scaler = mms()\n",
        "y_1 = tf.reshape(y,shape=(-1,1))\n",
        "X_1 = scaler.fit_transform(X)\n",
        "y_1 = scaler.fit_transform(y_1)"
      ],
      "metadata": {
        "id": "PGpv7V2uJnid"
      },
      "execution_count": 166,
      "outputs": []
    },
    {
      "cell_type": "code",
      "source": [
        "X_train_1, X_test_1 =X_1[:102], X_1[102:]\n",
        "y_train_1 , y_test_1 = y_1[:102], y_1[102:]"
      ],
      "metadata": {
        "id": "RF9U8w4VLwNP"
      },
      "execution_count": 171,
      "outputs": []
    },
    {
      "cell_type": "code",
      "source": [
        "#SET THE SEED, CREATE, COMPILE AND FIT THE MODEL #\n",
        "tf.random.set_seed(42)\n",
        "\n",
        "model_2 =tf.keras.Sequential([\n",
        "tf.keras.layers.Dense(8,activation=\"relu\")                              \n",
        "])\n",
        "\n",
        "model_2.compile(loss=tf.keras.losses.mae,\n",
        "                optimizer=tf.keras.optimizers.Adam(lr=0.01),\n",
        "                metrics=[\"mae\"])\n",
        "history = model_2.fit(X_train_1,y_train_1,epochs=100)"
      ],
      "metadata": {
        "colab": {
          "base_uri": "https://localhost:8080/"
        },
        "id": "VX5PFJ11NchB",
        "outputId": "5d312183-12d4-469a-aa9a-feef21ca36ea"
      },
      "execution_count": 188,
      "outputs": [
        {
          "output_type": "stream",
          "name": "stdout",
          "text": [
            "Epoch 1/100\n"
          ]
        },
        {
          "output_type": "stream",
          "name": "stderr",
          "text": [
            "/usr/local/lib/python3.7/dist-packages/keras/optimizer_v2/adam.py:105: UserWarning: The `lr` argument is deprecated, use `learning_rate` instead.\n",
            "  super(Adam, self).__init__(name, **kwargs)\n"
          ]
        },
        {
          "output_type": "stream",
          "name": "stdout",
          "text": [
            "4/4 [==============================] - 1s 4ms/step - loss: 0.3415 - mae: 0.3415\n",
            "Epoch 2/100\n",
            "4/4 [==============================] - 0s 7ms/step - loss: 0.3146 - mae: 0.3146\n",
            "Epoch 3/100\n",
            "4/4 [==============================] - 0s 7ms/step - loss: 0.2898 - mae: 0.2898\n",
            "Epoch 4/100\n",
            "4/4 [==============================] - 0s 4ms/step - loss: 0.2646 - mae: 0.2646\n",
            "Epoch 5/100\n",
            "4/4 [==============================] - 0s 4ms/step - loss: 0.2374 - mae: 0.2374\n",
            "Epoch 6/100\n",
            "4/4 [==============================] - 0s 4ms/step - loss: 0.2117 - mae: 0.2117\n",
            "Epoch 7/100\n",
            "4/4 [==============================] - 0s 6ms/step - loss: 0.1888 - mae: 0.1888\n",
            "Epoch 8/100\n",
            "4/4 [==============================] - 0s 7ms/step - loss: 0.1703 - mae: 0.1703\n",
            "Epoch 9/100\n",
            "4/4 [==============================] - 0s 4ms/step - loss: 0.1570 - mae: 0.1570\n",
            "Epoch 10/100\n",
            "4/4 [==============================] - 0s 4ms/step - loss: 0.1422 - mae: 0.1422\n",
            "Epoch 11/100\n",
            "4/4 [==============================] - 0s 5ms/step - loss: 0.1264 - mae: 0.1264\n",
            "Epoch 12/100\n",
            "4/4 [==============================] - 0s 5ms/step - loss: 0.1128 - mae: 0.1128\n",
            "Epoch 13/100\n",
            "4/4 [==============================] - 0s 5ms/step - loss: 0.0999 - mae: 0.0999\n",
            "Epoch 14/100\n",
            "4/4 [==============================] - 0s 10ms/step - loss: 0.0915 - mae: 0.0915\n",
            "Epoch 15/100\n",
            "4/4 [==============================] - 0s 7ms/step - loss: 0.0855 - mae: 0.0855\n",
            "Epoch 16/100\n",
            "4/4 [==============================] - 0s 5ms/step - loss: 0.0796 - mae: 0.0796\n",
            "Epoch 17/100\n",
            "4/4 [==============================] - 0s 7ms/step - loss: 0.0770 - mae: 0.0770\n",
            "Epoch 18/100\n",
            "4/4 [==============================] - 0s 8ms/step - loss: 0.0752 - mae: 0.0752\n",
            "Epoch 19/100\n",
            "4/4 [==============================] - 0s 8ms/step - loss: 0.0726 - mae: 0.0726\n",
            "Epoch 20/100\n",
            "4/4 [==============================] - 0s 7ms/step - loss: 0.0703 - mae: 0.0703\n",
            "Epoch 21/100\n",
            "4/4 [==============================] - 0s 6ms/step - loss: 0.0680 - mae: 0.0680\n",
            "Epoch 22/100\n",
            "4/4 [==============================] - 0s 5ms/step - loss: 0.0656 - mae: 0.0656\n",
            "Epoch 23/100\n",
            "4/4 [==============================] - 0s 6ms/step - loss: 0.0638 - mae: 0.0638\n",
            "Epoch 24/100\n",
            "4/4 [==============================] - 0s 6ms/step - loss: 0.0630 - mae: 0.0630\n",
            "Epoch 25/100\n",
            "4/4 [==============================] - 0s 7ms/step - loss: 0.0609 - mae: 0.0609\n",
            "Epoch 26/100\n",
            "4/4 [==============================] - 0s 7ms/step - loss: 0.0601 - mae: 0.0601\n",
            "Epoch 27/100\n",
            "4/4 [==============================] - 0s 6ms/step - loss: 0.0583 - mae: 0.0583\n",
            "Epoch 28/100\n",
            "4/4 [==============================] - 0s 7ms/step - loss: 0.0598 - mae: 0.0598\n",
            "Epoch 29/100\n",
            "4/4 [==============================] - 0s 7ms/step - loss: 0.0575 - mae: 0.0575\n",
            "Epoch 30/100\n",
            "4/4 [==============================] - 0s 8ms/step - loss: 0.0568 - mae: 0.0568\n",
            "Epoch 31/100\n",
            "4/4 [==============================] - 0s 5ms/step - loss: 0.0564 - mae: 0.0564\n",
            "Epoch 32/100\n",
            "4/4 [==============================] - 0s 5ms/step - loss: 0.0553 - mae: 0.0553\n",
            "Epoch 33/100\n",
            "4/4 [==============================] - 0s 4ms/step - loss: 0.0547 - mae: 0.0547\n",
            "Epoch 34/100\n",
            "4/4 [==============================] - 0s 6ms/step - loss: 0.0543 - mae: 0.0543\n",
            "Epoch 35/100\n",
            "4/4 [==============================] - 0s 7ms/step - loss: 0.0538 - mae: 0.0538\n",
            "Epoch 36/100\n",
            "4/4 [==============================] - 0s 7ms/step - loss: 0.0530 - mae: 0.0530\n",
            "Epoch 37/100\n",
            "4/4 [==============================] - 0s 4ms/step - loss: 0.0527 - mae: 0.0527\n",
            "Epoch 38/100\n",
            "4/4 [==============================] - 0s 4ms/step - loss: 0.0528 - mae: 0.0528\n",
            "Epoch 39/100\n",
            "4/4 [==============================] - 0s 4ms/step - loss: 0.0546 - mae: 0.0546\n",
            "Epoch 40/100\n",
            "4/4 [==============================] - 0s 5ms/step - loss: 0.0530 - mae: 0.0530\n",
            "Epoch 41/100\n",
            "4/4 [==============================] - 0s 4ms/step - loss: 0.0530 - mae: 0.0530\n",
            "Epoch 42/100\n",
            "4/4 [==============================] - 0s 4ms/step - loss: 0.0518 - mae: 0.0518\n",
            "Epoch 43/100\n",
            "4/4 [==============================] - 0s 4ms/step - loss: 0.0515 - mae: 0.0515\n",
            "Epoch 44/100\n",
            "4/4 [==============================] - 0s 4ms/step - loss: 0.0526 - mae: 0.0526\n",
            "Epoch 45/100\n",
            "4/4 [==============================] - 0s 4ms/step - loss: 0.0524 - mae: 0.0524\n",
            "Epoch 46/100\n",
            "4/4 [==============================] - 0s 4ms/step - loss: 0.0538 - mae: 0.0538\n",
            "Epoch 47/100\n",
            "4/4 [==============================] - 0s 7ms/step - loss: 0.0528 - mae: 0.0528\n",
            "Epoch 48/100\n",
            "4/4 [==============================] - 0s 7ms/step - loss: 0.0513 - mae: 0.0513\n",
            "Epoch 49/100\n",
            "4/4 [==============================] - 0s 7ms/step - loss: 0.0517 - mae: 0.0517\n",
            "Epoch 50/100\n",
            "4/4 [==============================] - 0s 4ms/step - loss: 0.0512 - mae: 0.0512\n",
            "Epoch 51/100\n",
            "4/4 [==============================] - 0s 4ms/step - loss: 0.0509 - mae: 0.0509\n",
            "Epoch 52/100\n",
            "4/4 [==============================] - 0s 5ms/step - loss: 0.0504 - mae: 0.0504\n",
            "Epoch 53/100\n",
            "4/4 [==============================] - 0s 5ms/step - loss: 0.0507 - mae: 0.0507\n",
            "Epoch 54/100\n",
            "4/4 [==============================] - 0s 5ms/step - loss: 0.0504 - mae: 0.0504\n",
            "Epoch 55/100\n",
            "4/4 [==============================] - 0s 5ms/step - loss: 0.0531 - mae: 0.0531\n",
            "Epoch 56/100\n",
            "4/4 [==============================] - 0s 8ms/step - loss: 0.0528 - mae: 0.0528\n",
            "Epoch 57/100\n",
            "4/4 [==============================] - 0s 5ms/step - loss: 0.0512 - mae: 0.0512\n",
            "Epoch 58/100\n",
            "4/4 [==============================] - 0s 7ms/step - loss: 0.0528 - mae: 0.0528\n",
            "Epoch 59/100\n",
            "4/4 [==============================] - 0s 6ms/step - loss: 0.0521 - mae: 0.0521\n",
            "Epoch 60/100\n",
            "4/4 [==============================] - 0s 6ms/step - loss: 0.0552 - mae: 0.0552\n",
            "Epoch 61/100\n",
            "4/4 [==============================] - 0s 6ms/step - loss: 0.0529 - mae: 0.0529\n",
            "Epoch 62/100\n",
            "4/4 [==============================] - 0s 7ms/step - loss: 0.0513 - mae: 0.0513\n",
            "Epoch 63/100\n",
            "4/4 [==============================] - 0s 7ms/step - loss: 0.0512 - mae: 0.0512\n",
            "Epoch 64/100\n",
            "4/4 [==============================] - 0s 6ms/step - loss: 0.0508 - mae: 0.0508\n",
            "Epoch 65/100\n",
            "4/4 [==============================] - 0s 7ms/step - loss: 0.0508 - mae: 0.0508\n",
            "Epoch 66/100\n",
            "4/4 [==============================] - 0s 6ms/step - loss: 0.0498 - mae: 0.0498\n",
            "Epoch 67/100\n",
            "4/4 [==============================] - 0s 6ms/step - loss: 0.0505 - mae: 0.0505\n",
            "Epoch 68/100\n",
            "4/4 [==============================] - 0s 7ms/step - loss: 0.0526 - mae: 0.0526\n",
            "Epoch 69/100\n",
            "4/4 [==============================] - 0s 9ms/step - loss: 0.0504 - mae: 0.0504\n",
            "Epoch 70/100\n",
            "4/4 [==============================] - 0s 5ms/step - loss: 0.0532 - mae: 0.0532\n",
            "Epoch 71/100\n",
            "4/4 [==============================] - 0s 5ms/step - loss: 0.0504 - mae: 0.0504\n",
            "Epoch 72/100\n",
            "4/4 [==============================] - 0s 5ms/step - loss: 0.0507 - mae: 0.0507\n",
            "Epoch 73/100\n",
            "4/4 [==============================] - 0s 5ms/step - loss: 0.0519 - mae: 0.0519\n",
            "Epoch 74/100\n",
            "4/4 [==============================] - 0s 4ms/step - loss: 0.0500 - mae: 0.0500\n",
            "Epoch 75/100\n",
            "4/4 [==============================] - 0s 5ms/step - loss: 0.0503 - mae: 0.0503\n",
            "Epoch 76/100\n",
            "4/4 [==============================] - 0s 7ms/step - loss: 0.0507 - mae: 0.0507\n",
            "Epoch 77/100\n",
            "4/4 [==============================] - 0s 6ms/step - loss: 0.0511 - mae: 0.0511\n",
            "Epoch 78/100\n",
            "4/4 [==============================] - 0s 6ms/step - loss: 0.0517 - mae: 0.0517\n",
            "Epoch 79/100\n",
            "4/4 [==============================] - 0s 4ms/step - loss: 0.0513 - mae: 0.0513\n",
            "Epoch 80/100\n",
            "4/4 [==============================] - 0s 5ms/step - loss: 0.0510 - mae: 0.0510\n",
            "Epoch 81/100\n",
            "4/4 [==============================] - 0s 4ms/step - loss: 0.0494 - mae: 0.0494\n",
            "Epoch 82/100\n",
            "4/4 [==============================] - 0s 4ms/step - loss: 0.0501 - mae: 0.0501\n",
            "Epoch 83/100\n",
            "4/4 [==============================] - 0s 4ms/step - loss: 0.0491 - mae: 0.0491\n",
            "Epoch 84/100\n",
            "4/4 [==============================] - 0s 4ms/step - loss: 0.0498 - mae: 0.0498\n",
            "Epoch 85/100\n",
            "4/4 [==============================] - 0s 5ms/step - loss: 0.0514 - mae: 0.0514\n",
            "Epoch 86/100\n",
            "4/4 [==============================] - 0s 5ms/step - loss: 0.0502 - mae: 0.0502\n",
            "Epoch 87/100\n",
            "4/4 [==============================] - 0s 4ms/step - loss: 0.0553 - mae: 0.0553\n",
            "Epoch 88/100\n",
            "4/4 [==============================] - 0s 5ms/step - loss: 0.0522 - mae: 0.0522\n",
            "Epoch 89/100\n",
            "4/4 [==============================] - 0s 7ms/step - loss: 0.0527 - mae: 0.0527\n",
            "Epoch 90/100\n",
            "4/4 [==============================] - 0s 4ms/step - loss: 0.0499 - mae: 0.0499\n",
            "Epoch 91/100\n",
            "4/4 [==============================] - 0s 7ms/step - loss: 0.0529 - mae: 0.0529\n",
            "Epoch 92/100\n",
            "4/4 [==============================] - 0s 6ms/step - loss: 0.0508 - mae: 0.0508\n",
            "Epoch 93/100\n",
            "4/4 [==============================] - 0s 5ms/step - loss: 0.0512 - mae: 0.0512\n",
            "Epoch 94/100\n",
            "4/4 [==============================] - 0s 7ms/step - loss: 0.0496 - mae: 0.0496\n",
            "Epoch 95/100\n",
            "4/4 [==============================] - 0s 10ms/step - loss: 0.0505 - mae: 0.0505\n",
            "Epoch 96/100\n",
            "4/4 [==============================] - 0s 6ms/step - loss: 0.0499 - mae: 0.0499\n",
            "Epoch 97/100\n",
            "4/4 [==============================] - 0s 6ms/step - loss: 0.0500 - mae: 0.0500\n",
            "Epoch 98/100\n",
            "4/4 [==============================] - 0s 9ms/step - loss: 0.0510 - mae: 0.0510\n",
            "Epoch 99/100\n",
            "4/4 [==============================] - 0s 10ms/step - loss: 0.0510 - mae: 0.0510\n",
            "Epoch 100/100\n",
            "4/4 [==============================] - 0s 8ms/step - loss: 0.0506 - mae: 0.0506\n"
          ]
        }
      ]
    },
    {
      "cell_type": "code",
      "source": [
        "pd.DataFrame(history.history).plot()"
      ],
      "metadata": {
        "colab": {
          "base_uri": "https://localhost:8080/",
          "height": 282
        },
        "id": "W314tqmyOehD",
        "outputId": "70b0d16d-b222-476b-f8e8-5eed7f98b4dc"
      },
      "execution_count": 194,
      "outputs": [
        {
          "output_type": "execute_result",
          "data": {
            "text/plain": [
              "<matplotlib.axes._subplots.AxesSubplot at 0x7ff294e8bb50>"
            ]
          },
          "metadata": {},
          "execution_count": 194
        },
        {
          "output_type": "display_data",
          "data": {
            "image/png": "[encoded data removed]",
            "text/plain": [
              "<Figure size 432x288 with 1 Axes>"
            ]
          },
          "metadata": {
            "needs_background": "light"
          }
        }
      ]
    }
  ],
  "metadata": {
    "colab": {
      "collapsed_sections": [],
      "name": "Untitled0.ipynb",
      "provenance": [],
      "mount_file_id": "1ylOUYHnEzcWHzrVYn7pvYXrfLm3YkqYG",
      "authorship_tag": "ABX9TyNaa/alKI3xwo5XsuHxz6io",
      "include_colab_link": true
    },
    "kernelspec": {
      "display_name": "Python 3",
      "name": "python3"
    },
    "language_info": {
      "name": "python"
    }
  },
  "nbformat": 4,
  "nbformat_minor": 0
}