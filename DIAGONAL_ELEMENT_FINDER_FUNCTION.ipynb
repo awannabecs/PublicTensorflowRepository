{
  "nbformat": 4,
  "nbformat_minor": 0,
  "metadata": {
    "colab": {
      "name": "DIAGONAL_ELEMENT_FINDER_FUNCTION",
      "provenance": [],
      "include_colab_link": true
    },
    "kernelspec": {
      "name": "python3",
      "display_name": "Python 3"
    },
    "language_info": {
      "name": "python"
    }
  },
  "cells": [
    {
      "cell_type": "markdown",
      "metadata": {
        "id": "view-in-github",
        "colab_type": "text"
      },
      "source": [
        "<a href=\"https://colab.research.google.com/github/awannabecs/PublicTensorflowRepository/blob/main/DIAGONAL_ELEMENT_FINDER_FUNCTION.ipynb\" target=\"_parent\"><img src=\"https://colab.research.google.com/assets/colab-badge.svg\" alt=\"Open In Colab\"/></a>"
      ]
    },
    {
      "cell_type": "code",
      "execution_count": null,
      "metadata": {
        "id": "oe2Z_wh7Eq5R"
      },
      "outputs": [],
      "source": [
        "import tensorflow as tf\n",
        "import numpy as np"
      ]
    },
    {
      "cell_type": "code",
      "source": [
        "def diagonal_element_finder_function(matrix):\n",
        "  number = 0\n",
        "  list1 = []\n",
        "  for i in matrix.numpy():\n",
        "    list1.append(i[number])\n",
        "    number += 1\n",
        "  return list1"
      ],
      "metadata": {
        "id": "WsI_VUxthiH-"
      },
      "execution_count": 1,
      "outputs": []
    },
    {
      "cell_type": "code",
      "source": [
        ""
      ],
      "metadata": {
        "id": "Vo-lFLDFmm4f"
      },
      "execution_count": null,
      "outputs": []
    }
  ]
}