{
  "cells": [
    {
      "cell_type": "markdown",
      "metadata": {
        "id": "view-in-github",
        "colab_type": "text"
      },
      "source": [
        "<a href=\"https://colab.research.google.com/github/awannabecs/PublicTensorflowRepository/blob/main/NLG_model1.ipynb\" target=\"_parent\"><img src=\"https://colab.research.google.com/assets/colab-badge.svg\" alt=\"Open In Colab\"/></a>"
      ]
    },
    {
      "cell_type": "code",
      "execution_count": 2,
      "metadata": {
        "id": "o_Ehl0p--GEg"
      },
      "outputs": [],
      "source": [
        "import tensorflow as tf\n",
        "from urllib.request import urlopen\n",
        "import spacy\n",
        "import re"
      ]
    },
    {
      "cell_type": "code",
      "execution_count": 3,
      "metadata": {
        "id": "AW_HiYGl-YT4"
      },
      "outputs": [],
      "source": [
        "# 1: the first step is to get the data ready# \n",
        "nlg_data = urlopen(\"https://ocw.mit.edu/ans7870/6/6.006/s08/lecturenotes/files/t8.shakespeare.txt\").read().decode(\"ascii\").split(\"\\n\")\n",
        "\n",
        "# 1.1 : remove the unwanted parts, if there are any##\n",
        "data = str(nlg_data[246:-20])\n",
        "data = re.sub(r\"\"\"[\\'\\\"\\d\\\\\\,\\:\\;\\(\\)]\"\"\", \"\", data)\n",
        "data = data.split()"
      ]
    },
    {
      "cell_type": "code",
      "execution_count": 20,
      "metadata": {
        "id": "T4dz2ULTCjmP"
      },
      "outputs": [],
      "source": [
        "train1 = data[:718962]\n",
        "valid1 = data[718962:]"
      ]
    },
    {
      "cell_type": "code",
      "execution_count": 22,
      "metadata": {
        "id": "0wgHjQoDT1Yh",
        "colab": {
          "base_uri": "https://localhost:8080/",
          "height": 200
        },
        "outputId": "3d585e12-8da6-4cf4-b2b8-cf355d5e111f"
      },
      "outputs": [
        {
          "output_type": "error",
          "ename": "KeyError",
          "evalue": "ignored",
          "traceback": [
            "\u001b[0;31m---------------------------------------------------------------------------\u001b[0m",
            "\u001b[0;31mKeyError\u001b[0m                                  Traceback (most recent call last)",
            "\u001b[0;32m<ipython-input-22-fce1f926878f>\u001b[0m in \u001b[0;36m<module>\u001b[0;34m()\u001b[0m\n\u001b[1;32m     13\u001b[0m \u001b[0mvalid\u001b[0m \u001b[0;34m=\u001b[0m \u001b[0mtorch\u001b[0m\u001b[0;34m.\u001b[0m\u001b[0mLongTensor\u001b[0m\u001b[0;34m(\u001b[0m\u001b[0mlen\u001b[0m\u001b[0;34m(\u001b[0m\u001b[0mvalid1\u001b[0m\u001b[0;34m)\u001b[0m\u001b[0;34m)\u001b[0m\u001b[0;34m\u001b[0m\u001b[0;34m\u001b[0m\u001b[0m\n\u001b[1;32m     14\u001b[0m \u001b[0;32mfor\u001b[0m \u001b[0mj\u001b[0m \u001b[0;32min\u001b[0m \u001b[0mrange\u001b[0m\u001b[0;34m(\u001b[0m\u001b[0mlen\u001b[0m\u001b[0;34m(\u001b[0m\u001b[0mvalid1\u001b[0m\u001b[0;34m)\u001b[0m\u001b[0;34m)\u001b[0m\u001b[0;34m:\u001b[0m\u001b[0;34m\u001b[0m\u001b[0;34m\u001b[0m\u001b[0m\n\u001b[0;32m---> 15\u001b[0;31m   \u001b[0mvalid\u001b[0m\u001b[0;34m[\u001b[0m\u001b[0mj\u001b[0m\u001b[0;34m]\u001b[0m \u001b[0;34m=\u001b[0m \u001b[0mw_to_n\u001b[0m\u001b[0;34m[\u001b[0m\u001b[0mvalid1\u001b[0m\u001b[0;34m[\u001b[0m\u001b[0mj\u001b[0m\u001b[0;34m]\u001b[0m\u001b[0;34m]\u001b[0m\u001b[0;34m\u001b[0m\u001b[0;34m\u001b[0m\u001b[0m\n\u001b[0m",
            "\u001b[0;31mKeyError\u001b[0m: 'Baptista'"
          ]
        }
      ],
      "source": [
        "vocabulary = set(train1)\n",
        "w_to_n = {}\n",
        "n_to_w = {}\n",
        "for num, word in enumerate(vocabulary):\n",
        "  w_to_n[word] = num\n",
        "  n_to_w[num] = word\n",
        "\n",
        "import torch\n",
        "train = torch.LongTensor(len(train1))\n",
        "for i in range(len(train1)):\n",
        "  train[i] = w_to_n[train1[i]]\n",
        "\n",
        "valid = torch.LongTensor(len(valid1))\n",
        "for j in range(len(valid1)):\n",
        "  valid[j] = w_to_n[valid1[j]]"
      ]
    },
    {
      "cell_type": "code",
      "execution_count": null,
      "metadata": {
        "id": "Yo8xCKFKCk7_"
      },
      "outputs": [],
      "source": [
        ""
      ]
    }
  ],
  "metadata": {
    "colab": {
      "name": "NLG_model1",
      "provenance": [],
      "authorship_tag": "ABX9TyPEiLlIfHwLdyXuse+pY1xz",
      "include_colab_link": true
    },
    "kernelspec": {
      "display_name": "Python 3",
      "name": "python3"
    },
    "language_info": {
      "name": "python"
    }
  },
  "nbformat": 4,
  "nbformat_minor": 0
}